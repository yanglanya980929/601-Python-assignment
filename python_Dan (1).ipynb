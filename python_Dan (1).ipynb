{
 "cells": [
  {
   "cell_type": "markdown",
   "id": "1d0350c8",
   "metadata": {},
   "source": [
    "# 16.1 "
   ]
  },
  {
   "cell_type": "code",
   "execution_count": 33,
   "id": "6e010427",
   "metadata": {},
   "outputs": [
    {
     "name": "stdout",
     "output_type": "stream",
     "text": [
      "The Zen of Python, by Tim Peters\n",
      "\n",
      "Beautiful is better than ugly.\n",
      "Explicit is better than implicit.\n",
      "Simple is better than complex.\n",
      "Complex is better than complicated.\n",
      "Flat is better than nested.\n",
      "Sparse is better than dense.\n",
      "Readability counts.\n",
      "Special cases aren't special enough to break the rules.\n",
      "Although practicality beats purity.\n",
      "Errors should never pass silently.\n",
      "Unless explicitly silenced.\n",
      "In the face of ambiguity, refuse the temptation to guess.\n",
      "There should be one-- and preferably only one --obvious way to do it.\n",
      "Although that way may not be obvious at first unless you're Dutch.\n",
      "Now is better than never.\n",
      "Although never is often better than *right* now.\n",
      "If the implementation is hard to explain, it's a bad idea.\n",
      "If the implementation is easy to explain, it may be a good idea.\n",
      "Namespaces are one honking great idea -- let's do more of those!\n"
     ]
    }
   ],
   "source": [
    "import this"
   ]
  },
  {
   "cell_type": "markdown",
   "id": "fc116e0d",
   "metadata": {},
   "source": [
    "# 16.2 Task 1"
   ]
  },
  {
   "cell_type": "markdown",
   "id": "3a5fe6a4",
   "metadata": {},
   "source": [
    "For n men and n women, the upperbound for the maximum number of stable matchings is $2^{n/2}$"
   ]
  },
  {
   "cell_type": "markdown",
   "id": "1e6f86f6",
   "metadata": {},
   "source": [
    "# 16.3 Task 2 "
   ]
  },
  {
   "cell_type": "markdown",
   "id": "73b2aa76",
   "metadata": {},
   "source": [
    "## 16.3.1 part a)"
   ]
  },
  {
   "cell_type": "code",
   "execution_count": 150,
   "id": "5d6bc67c",
   "metadata": {},
   "outputs": [],
   "source": [
    "def IS_STABLE(preference1, preference2, matching):\n",
    "    flag = 0\n",
    "    for key in matching:\n",
    "        husband = key\n",
    "        wife = matching[key] # find wife \n",
    "        preference_husband = preference1[key] # find the husband's preference \n",
    "        index_wife =  preference_husband.index(wife) #  find the index of wife in the husband's preference\n",
    "\n",
    "        for i in range(index_wife):\n",
    "            woman = preference_husband[i]\n",
    "            preference_woman = preference2[woman] # the preference of a \"preferred woman\"\n",
    "            # find their own husband\n",
    "            her_husband = list(matching)[list(matching.values()).index(woman)]\n",
    "#             her_husband = [key for key, value in matching.items() if value == woman][0]\n",
    "\n",
    "            \n",
    "            # find the index of her own husband\n",
    "            index_her_husband = preference_woman.index(her_husband)\n",
    "            \n",
    "            # find the index of the husband\n",
    "            index_husband = preference_woman.index(husband)\n",
    "            \n",
    "            if index_husband < index_her_husband:\n",
    "                flag = 1\n",
    "                break\n",
    "    if flag == 0:\n",
    "        print(\"stable\")\n",
    "    if flag == 1:\n",
    "        print(\"unstable\")\n",
    "    return flag"
   ]
  },
  {
   "cell_type": "code",
   "execution_count": 151,
   "id": "11239786",
   "metadata": {},
   "outputs": [],
   "source": [
    "prefer1 = {\n",
    "    \"A\": [\"c\", \"b\", \"d\", \"a\"],\n",
    "    \"B\": [\"b\", \"a\", \"c\", \"d\"],\n",
    "    \"C\": [\"b\", \"d\", \"a\", \"c\"],\n",
    "    \"D\": [\"c\", \"a\", \"d\", \"b\"]\n",
    "}\n",
    "prefer2 = {\n",
    "    \"a\": [\"A\", \"B\", \"D\", \"C\"],\n",
    "    \"b\": [\"C\", \"A\", \"D\", \"B\"],\n",
    "    \"c\": [\"C\", \"B\", \"D\", \"A\"],\n",
    "    \"d\": [\"B\", \"A\", \"C\", \"D\"]\n",
    "}\n",
    "\n",
    "matching1 = {\n",
    "    \"A\": \"d\",\n",
    "    \"B\": \"a\",\n",
    "    \"C\": \"b\",\n",
    "    \"D\": \"c\"\n",
    "} # stable\n",
    "\n",
    "matching2 = {\n",
    "    \"A\": \"a\",\n",
    "    \"B\": \"b\",\n",
    "    \"C\": \"c\",\n",
    "    \"D\": \"d\"\n",
    "} # unstable"
   ]
  },
  {
   "cell_type": "code",
   "execution_count": 152,
   "id": "323893b5",
   "metadata": {},
   "outputs": [
    {
     "name": "stdout",
     "output_type": "stream",
     "text": [
      "stable\n"
     ]
    },
    {
     "data": {
      "text/plain": [
       "0"
      ]
     },
     "execution_count": 152,
     "metadata": {},
     "output_type": "execute_result"
    }
   ],
   "source": [
    "# test 1\n",
    "IS_STABLE(prefer1, prefer2, matching1)"
   ]
  },
  {
   "cell_type": "code",
   "execution_count": 153,
   "id": "4c840cba",
   "metadata": {},
   "outputs": [
    {
     "name": "stdout",
     "output_type": "stream",
     "text": [
      "unstable\n"
     ]
    },
    {
     "data": {
      "text/plain": [
       "1"
      ]
     },
     "execution_count": 153,
     "metadata": {},
     "output_type": "execute_result"
    }
   ],
   "source": [
    "# test 2\n",
    "IS_STABLE(prefer1, prefer2, matching2)"
   ]
  },
  {
   "cell_type": "markdown",
   "id": "9bff9f0d",
   "metadata": {},
   "source": [
    "## 16.3.2 part b)"
   ]
  },
  {
   "cell_type": "markdown",
   "id": "2c25d1c9",
   "metadata": {},
   "source": [
    "The data structure of the preference table and the matching is both dictionaries. Dictionaries, with their key-value pairs, provide a natural and expressive way to represent married couples and the preference lists of each individual. Besides, in the dictionary of the preference table, the preference of each person is denoted by a list because it's mutable and ordered. "
   ]
  },
  {
   "cell_type": "markdown",
   "id": "bc8c131f",
   "metadata": {},
   "source": [
    "## 16.3.3 part c)"
   ]
  },
  {
   "cell_type": "markdown",
   "id": "0a1f5181",
   "metadata": {},
   "source": [
    "Suppose the number of pairs in the dictionary is $n$, the number of elements in each preference list is also $n$. Then we have to iterate the outer loop $k$ times and iterate the inner loop up to $n$ times. Besides, the time complexity of the steps inside the inner loop is $\\mathcal{O}(1)$. Therefore, the time complexity of the whole function is $\\mathcal{O}(n^2)$."
   ]
  },
  {
   "cell_type": "markdown",
   "id": "34f96c85",
   "metadata": {},
   "source": [
    "# 16.4 Task 3"
   ]
  },
  {
   "cell_type": "markdown",
   "id": "edd674a6",
   "metadata": {},
   "source": [
    "## 16.4.1 part a)"
   ]
  },
  {
   "cell_type": "code",
   "execution_count": 154,
   "id": "e863a5a5",
   "metadata": {},
   "outputs": [],
   "source": [
    "from itertools import permutations\n",
    "\n",
    "# Define IS_STABLE_new which is IS_STABLE without printing out \"stable\" or \"unstable\"\n",
    "def IS_STABLE_new(preference1, preference2, matching):\n",
    "    flag = 0\n",
    "    for key in matching:\n",
    "        husband = key\n",
    "        wife = matching[key] # find wife \n",
    "        preference_husband = preference1[key] # find the husband's preference \n",
    "        index_wife =  preference_husband.index(wife) #  find the index of wife in the husband's preference\n",
    "\n",
    "        for i in range(index_wife):\n",
    "            woman = preference_husband[i]\n",
    "            preference_woman = preference2[woman] # the preference of a \"preferred woman\"\n",
    "            # find their own husband\n",
    "            her_husband = list(matching)[list(matching.values()).index(woman)]\n",
    "#             her_husband = [key for key, value in matching.items() if value == woman][0]\n",
    "            \n",
    "            # find the index of her own husband\n",
    "            index_her_husband = preference_woman.index(her_husband)\n",
    "            \n",
    "            # find the index of the husband\n",
    "            index_husband = preference_woman.index(husband)\n",
    "            \n",
    "            if index_husband < index_her_husband:\n",
    "                flag = 1\n",
    "                break\n",
    "    return flag\n",
    "\n",
    "def STABLE__MATCHINGS(preference1, preference2):\n",
    "    # find all the wives\n",
    "    first_key = next(iter(preference1))\n",
    "    wives = preference1[first_key]\n",
    "    \n",
    "    # find all the husbands\n",
    "    second_key = next(iter(preference2))\n",
    "    husbands = preference2[second_key]\n",
    "    \n",
    "    all_matchings = [dict(zip(husbands, perm)) for perm in permutations(wives)] # get all the possible matchings\n",
    "    \n",
    "    stable_sols = []\n",
    "    for d in all_matchings:\n",
    "        flag = IS_STABLE_new(preference1, preference2, d)\n",
    "        if flag == 0:\n",
    "            stable_sols.append(d)\n",
    "    return stable_sols"
   ]
  },
  {
   "cell_type": "code",
   "execution_count": 155,
   "id": "02b005f7",
   "metadata": {},
   "outputs": [
    {
     "data": {
      "text/plain": [
       "[{'A': 'd', 'B': 'a', 'D': 'c', 'C': 'b'}]"
      ]
     },
     "execution_count": 155,
     "metadata": {},
     "output_type": "execute_result"
    }
   ],
   "source": [
    "# test function STABLE__MATCHINGS\n",
    "# test 1\n",
    "solutions = STABLE__MATCHINGS(prefer1, prefer2)\n",
    "solutions"
   ]
  },
  {
   "cell_type": "code",
   "execution_count": 156,
   "id": "a200d2d7",
   "metadata": {},
   "outputs": [
    {
     "data": {
      "text/plain": [
       "[{'B': 'a', 'C': 'b', 'D': 'c', 'E': 'd', 'A': 'e'},\n",
       " {'B': 'b', 'C': 'c', 'D': 'd', 'E': 'e', 'A': 'a'},\n",
       " {'B': 'c', 'C': 'd', 'D': 'e', 'E': 'a', 'A': 'b'},\n",
       " {'B': 'd', 'C': 'e', 'D': 'a', 'E': 'b', 'A': 'c'},\n",
       " {'B': 'e', 'C': 'a', 'D': 'b', 'E': 'c', 'A': 'd'}]"
      ]
     },
     "execution_count": 156,
     "metadata": {},
     "output_type": "execute_result"
    }
   ],
   "source": [
    "# test 2\n",
    "prefer2_1 = {\n",
    "    \"A\": [\"a\", \"b\", \"c\", \"d\", \"e\"],\n",
    "    \"B\": [\"b\", \"c\", \"d\", \"e\", \"a\"],\n",
    "    \"C\": [\"c\", \"d\", \"e\", \"a\", \"b\"],\n",
    "    \"D\": [\"d\", \"e\", \"a\", \"b\", \"c\"],\n",
    "    \"E\": [\"e\", \"a\", \"b\", \"c\", \"d\"]\n",
    "}\n",
    "\n",
    "prefer2_2 = {\n",
    "    \"a\": [\"B\", \"C\", \"D\", \"E\", \"A\"],\n",
    "    \"b\": [\"C\", \"D\", \"E\", \"A\", \"B\"],\n",
    "    \"c\": [\"D\", \"E\", \"A\", \"B\", \"C\"],\n",
    "    \"d\": [\"E\", \"A\", \"B\", \"C\", \"D\"],\n",
    "    \"e\": [\"A\", \"B\", \"C\", \"D\", \"E\"]\n",
    "}\n",
    "\n",
    "STABLE__MATCHINGS(prefer2_1, prefer2_2)"
   ]
  },
  {
   "cell_type": "markdown",
   "id": "f63361df",
   "metadata": {},
   "source": [
    "## 16.4.2 part b)"
   ]
  },
  {
   "cell_type": "markdown",
   "id": "e49c6a64",
   "metadata": {},
   "source": [
    "I create a list to store all possible matchings and each matching is a dictionary. Besides, I also use a list to store all stable solutions."
   ]
  },
  {
   "cell_type": "markdown",
   "id": "768d13b7",
   "metadata": {},
   "source": [
    "## 16.4.3 part c)"
   ]
  },
  {
   "cell_type": "markdown",
   "id": "cc1b364f",
   "metadata": {},
   "source": [
    "The number of elements in \"all_matchings\" is $n!$, so the loop should be iterated $n!$ times. Since the time complexity of function \"IS_STABLE_new\" is $n^2$, which is the same as that of the function \"IS_STABLE\" (I just delete the \"print\" function in \"IS_STABLE\" and name it as \"IS_STABLE_new\"), the time complexity of function \"STABLE__MATCHINGS\" is $\\mathcal{O}(n!\\cdot n^2)$."
   ]
  },
  {
   "cell_type": "markdown",
   "id": "b1a116be",
   "metadata": {},
   "source": [
    "# 16.5 Task 4"
   ]
  },
  {
   "cell_type": "code",
   "execution_count": 42,
   "id": "75ed43ed",
   "metadata": {},
   "outputs": [
    {
     "data": {
      "text/plain": [
       "[3, 1, 2, 9, 5, 7]"
      ]
     },
     "execution_count": 42,
     "metadata": {},
     "output_type": "execute_result"
    }
   ],
   "source": [
    "import random\n",
    "random.sample(range(1,10),6)"
   ]
  },
  {
   "cell_type": "code",
   "execution_count": 43,
   "id": "506d2748",
   "metadata": {},
   "outputs": [],
   "source": [
    "def gnt_preferences(list1, list2):\n",
    "    dic1 = {}\n",
    "    dic2 = {}\n",
    "    k = len(list1)\n",
    "    for item in list1:\n",
    "        dic1[item] = random.sample(list2, k)\n",
    "    for key in list2:\n",
    "        dic2[key] = random.sample(list1, k)\n",
    "    return dic1, dic2"
   ]
  },
  {
   "cell_type": "code",
   "execution_count": 46,
   "id": "e8d28d82",
   "metadata": {},
   "outputs": [
    {
     "name": "stdout",
     "output_type": "stream",
     "text": [
      "   A  B  C  D\n",
      "0  a  c  d  c\n",
      "1  c  a  a  b\n",
      "2  d  d  b  a\n",
      "3  b  b  c  d\n"
     ]
    }
   ],
   "source": [
    "# test function gnt_preferences\n",
    "l1 = [\"A\", \"B\", \"C\", \"D\"]\n",
    "l2 = [\"a\", \"b\", \"c\", \"d\"]\n",
    "dic1, dic2 = gnt_preferences(l1, l2)\n",
    "print(pd.DataFrame(dic1))\n",
    "#print(dic2)"
   ]
  },
  {
   "cell_type": "markdown",
   "id": "0e086bb5",
   "metadata": {},
   "source": [
    "# 16.6 Task 5"
   ]
  },
  {
   "cell_type": "markdown",
   "id": "95b81331",
   "metadata": {},
   "source": [
    "## Replicability for Task 2"
   ]
  },
  {
   "cell_type": "markdown",
   "id": "af844186",
   "metadata": {},
   "source": [
    "<div style=\"background-color:rgba(0, 0, 0, 0.0470588); padding:10px 0;font-family:monospace;\">\n",
    "$\\textbf{Input}$: two preference tables and one matching <br>\n",
    "$\\textbf{Set}$ flag = 0<br>\n",
    "$\\textbf{For}$ each man: <br>\n",
    "&nbsp;&nbsp;&nbsp;&nbsp; $\\textbf{For}$ each woman who the man prefers than his wife:<br>\n",
    "&nbsp;&nbsp;&nbsp;&nbsp;&nbsp;&nbsp;&nbsp;&nbsp; $\\textbf{If}$ the woman prefer the man than her husband: <br>\n",
    "&nbsp;&nbsp;&nbsp;&nbsp;&nbsp;&nbsp;&nbsp;&nbsp;&nbsp;&nbsp;&nbsp;&nbsp; The marriage is unstable;<br>\n",
    "&nbsp;&nbsp;&nbsp;&nbsp;&nbsp;&nbsp;&nbsp;&nbsp;&nbsp;&nbsp;&nbsp;&nbsp; $\\textbf{Set}$ flag = 1;<br>\n",
    "&nbsp;&nbsp;&nbsp;&nbsp;&nbsp;&nbsp;&nbsp;&nbsp;&nbsp;&nbsp;&nbsp;&nbsp; $\\textbf{break}$<br>\n",
    "$\\textbf{If}$ flag = 0<br>\n",
    "    &nbsp;&nbsp;&nbsp;&nbsp; The marriage is stable;<br>\n",
    "$\\textbf{Output}$: The marriage is stable or not\n",
    "</div>"
   ]
  },
  {
   "cell_type": "markdown",
   "id": "bdb1b018",
   "metadata": {},
   "source": [
    "## Replicability for Task 3"
   ]
  },
  {
   "cell_type": "markdown",
   "id": "8045cc80",
   "metadata": {},
   "source": [
    "<div style=\"background-color:rgba(0, 0, 0, 0.0470588); padding:10px 0;font-family:monospace;\">\n",
    "$\\textbf{Input}$: two preference tables <br>\n",
    "find all the possible matchings<br>\n",
    "$\\textbf{For}$ each matching: <br>\n",
    "&nbsp;&nbsp;&nbsp;&nbsp; $\\textbf{If}$ it is stable: <br>\n",
    "&nbsp;&nbsp;&nbsp;&nbsp;&nbsp;&nbsp;&nbsp;&nbsp; Put it in the set of stable solutions <br>\n",
    "$\\textbf{Output}$: The set of all the stable solutions\n",
    "</div>"
   ]
  },
  {
   "cell_type": "markdown",
   "id": "8f1f87d1",
   "metadata": {},
   "source": [
    "# 16.7 Task 6"
   ]
  },
  {
   "cell_type": "code",
   "execution_count": 98,
   "id": "3b4f2992",
   "metadata": {},
   "outputs": [
    {
     "name": "stdout",
     "output_type": "stream",
     "text": [
      "0.0350722000002861\n"
     ]
    }
   ],
   "source": [
    "import time\n",
    "start = time.perf_counter()\n",
    "for i in range(1000000) :\n",
    "    x = 2\n",
    "end = time.perf_counter()   \n",
    "print(end-start)"
   ]
  },
  {
   "cell_type": "code",
   "execution_count": 122,
   "id": "80bae148",
   "metadata": {},
   "outputs": [
    {
     "name": "stdout",
     "output_type": "stream",
     "text": [
      "['A', 'B']\n"
     ]
    }
   ],
   "source": [
    "list1 = [\n",
    "    [[\"A\", \"B\"], [\"a\", \"b\"]],\n",
    "    [[\"A\", \"B\", \"C\"], [\"a\", \"b\", \"c\"]],\n",
    "    [[\"A\", \"B\", \"C\", \"D\"], [\"a\", \"b\", \"c\", \"d\"]],\n",
    "    [[\"A\", \"B\", \"C\", \"D\", \"E\"], [\"a\", \"b\", \"c\", \"d\", \"e\"]],\n",
    "    [[\"A\", \"B\", \"C\", \"D\", \"E\", \"F\"], [\"a\", \"b\", \"c\", \"d\", \"e\", \"f\"]],\n",
    "    [[\"A\", \"B\", \"C\", \"D\", \"E\", \"F\", \"G\"], [\"a\", \"b\", \"c\", \"d\", \"e\", \"f\", \"g\"]],\n",
    "    [[\"A\", \"B\", \"C\", \"D\", \"E\", \"F\", \"G\",\"H\"], [\"a\", \"b\", \"c\", \"d\", \"e\", \"f\", \"g\", \"h\"]],\n",
    "    [[\"A\", \"B\", \"C\", \"D\", \"E\", \"F\", \"G\",\"H\", \"I\"], [\"a\", \"b\", \"c\", \"d\", \"e\", \"f\", \"g\", \"h\", \"i\"]],\n",
    "    [[\"A\", \"B\", \"C\", \"D\", \"E\", \"F\", \"G\",\"H\", \"I\",\"J\"], [\"a\", \"b\", \"c\", \"d\", \"e\", \"f\", \"g\", \"h\", \"i\", \"j\"]]\n",
    "]\n",
    "\n",
    "print(list1[0][0])"
   ]
  },
  {
   "cell_type": "code",
   "execution_count": 162,
   "id": "d6c8a91b",
   "metadata": {},
   "outputs": [],
   "source": [
    "import numpy as np\n",
    "np.random.seed(1)\n",
    "time1_average = []\n",
    "time2_average = []\n",
    "for i in range(len(list1)-2):\n",
    "    l1 = list1[i][0]\n",
    "    l2 = list1[i][1]\n",
    "    prefer1, prefer2 = gnt_preferences(l1, l2)\n",
    "    matching = dict(zip(l1, l2))\n",
    "    time1 = []\n",
    "    time2 = []\n",
    "    for j in range(100):\n",
    "        start1 = time.perf_counter()\n",
    "        IS_STABLE_new(prefer1, prefer2, matching)\n",
    "        end1 = time.perf_counter()\n",
    "        time1.append(end1 - start1)\n",
    "    \n",
    "        start2 = time.perf_counter()\n",
    "        STABLE__MATCHINGS(prefer1, prefer2)\n",
    "        end2 = time.perf_counter()\n",
    "        time2.append(end2 - start2)\n",
    "    \n",
    "    time1_average.append(np.mean(time1))\n",
    "    time2_average.append(np.mean(time2))"
   ]
  },
  {
   "cell_type": "code",
   "execution_count": 159,
   "id": "b625b855",
   "metadata": {},
   "outputs": [
    {
     "name": "stdout",
     "output_type": "stream",
     "text": [
      "[1.8570013344287873e-06, 3.1790000502951443e-06, 5.0929986173287036e-06, 2.1210004342719914e-06, 6.0759985353797675e-06, 9.916001581586897e-06, 1.408200041623786e-05]\n",
      "[5.685998185072094e-06, 2.0163999579381198e-05, 0.00010834800195880234, 0.00041548999899532646, 0.0031198570021661, 0.02611208299989812, 0.246268125998904]\n"
     ]
    }
   ],
   "source": [
    "print(time1_average)\n",
    "print(time2_average)"
   ]
  },
  {
   "cell_type": "code",
   "execution_count": 160,
   "id": "7e2945db",
   "metadata": {},
   "outputs": [
    {
     "data": {
      "image/png": "[encoded data removed]",
      "text/plain": [
       "<Figure size 432x288 with 1 Axes>"
      ]
     },
     "metadata": {
      "needs_background": "light"
     },
     "output_type": "display_data"
    }
   ],
   "source": [
    "import matplotlib.pyplot as plt\n",
    "\n",
    "x = list(range(2, 9))\n",
    "# Plotting\n",
    "plt.plot(x, time1_average, marker='o', linestyle='-', color='b', label='IS_STABLE')\n",
    "plt.plot(x, time2_average, marker='o', linestyle='-', color='r', label='STABLE__MATCHINGS')\n",
    "plt.xlabel('n')\n",
    "plt.ylabel('time')\n",
    "plt.title('Plot of X and Y')\n",
    "plt.legend()\n",
    "plt.grid(True)\n",
    "plt.show()\n"
   ]
  },
  {
   "cell_type": "code",
   "execution_count": 161,
   "id": "c3458015",
   "metadata": {},
   "outputs": [
    {
     "data": {
      "image/png": "[encoded data removed]",
      "text/plain": [
       "<Figure size 432x288 with 1 Axes>"
      ]
     },
     "metadata": {
      "needs_background": "light"
     },
     "output_type": "display_data"
    }
   ],
   "source": [
    "x = list(range(2, 9))\n",
    "# Plotting\n",
    "plt.plot(x, time1_average, marker='o', linestyle='-', color='b', label='IS_STABLE')\n",
    "plt.xlabel('n')\n",
    "plt.ylabel('time')\n",
    "plt.title('Plot of X and Y')\n",
    "plt.legend()\n",
    "plt.grid(True)\n",
    "plt.show()"
   ]
  },
  {
   "cell_type": "markdown",
   "id": "1eb19e6d",
   "metadata": {},
   "source": [
    "# 16.8 Task 7"
   ]
  },
  {
   "cell_type": "markdown",
   "id": "0c428a21",
   "metadata": {},
   "source": [
    "## 16.8.1 part a)"
   ]
  },
  {
   "cell_type": "markdown",
   "id": "a78da37d",
   "metadata": {},
   "source": [
    "The very undesirable imaginary man is denoted by \"omega\" and we put it at the end of each person's preference list as follows."
   ]
  },
  {
   "cell_type": "code",
   "execution_count": 13,
   "id": "ac4431e0",
   "metadata": {},
   "outputs": [
    {
     "name": "stdout",
     "output_type": "stream",
     "text": [
      "{'A': ['a', 'b', 'c', 'd', 'e', 'omega'], 'B': ['b', 'c', 'd', 'e', 'a', 'omega'], 'C': ['c', 'd', 'e', 'a', 'b', 'omega'], 'D': ['d', 'e', 'a', 'b', 'c', 'omega'], 'E': ['e', 'a', 'b', 'c', 'd', 'omega']}\n",
      "{'a': ['B', 'C', 'D', 'E', 'A', 'omega'], 'b': ['C', 'D', 'E', 'A', 'B', 'omega'], 'c': ['D', 'E', 'A', 'B', 'C', 'omega'], 'd': ['E', 'A', 'B', 'C', 'D', 'omega'], 'e': ['A', 'B', 'C', 'D', 'E', 'omega']}\n"
     ]
    }
   ],
   "source": [
    "prefer2_1 = {\n",
    "    \"A\": [\"a\", \"b\", \"c\", \"d\", \"e\"],\n",
    "    \"B\": [\"b\", \"c\", \"d\", \"e\", \"a\"],\n",
    "    \"C\": [\"c\", \"d\", \"e\", \"a\", \"b\"],\n",
    "    \"D\": [\"d\", \"e\", \"a\", \"b\", \"c\"],\n",
    "    \"E\": [\"e\", \"a\", \"b\", \"c\", \"d\"]\n",
    "}\n",
    "\n",
    "prefer2_2 = {\n",
    "    \"a\": [\"B\", \"C\", \"D\", \"E\", \"A\"],\n",
    "    \"b\": [\"C\", \"D\", \"E\", \"A\", \"B\"],\n",
    "    \"c\": [\"D\", \"E\", \"A\", \"B\", \"C\"],\n",
    "    \"d\": [\"E\", \"A\", \"B\", \"C\", \"D\"],\n",
    "    \"e\": [\"A\", \"B\", \"C\", \"D\", \"E\"]\n",
    "}\n",
    "prefer3_1 = {key: value + [\"omega\"] for key, value in prefer2_1.items()}\n",
    "prefer3_2 = {key: value + [\"omega\"] for key, value in prefer2_2.items()}\n",
    "\n",
    "# Display the resulting dictionaries\n",
    "print(prefer3_1)\n",
    "print(prefer3_2)"
   ]
  },
  {
   "cell_type": "markdown",
   "id": "bd5b2822",
   "metadata": {},
   "source": [
    "## 16.8.2 part b)"
   ]
  },
  {
   "cell_type": "code",
   "execution_count": 82,
   "id": "7df4c808",
   "metadata": {},
   "outputs": [],
   "source": [
    "def algorithm(preference1, preference2):\n",
    "    preference1 = {key: value + [\"omega\"] for key, value in preference1.items()} # n\n",
    "    preference2 = {key: value + [\"omega\"] for key, value in preference2.items()} # n\n",
    "    matching = {}\n",
    "    husbands = list(preference1.keys())\n",
    "    wives = list(preference2.keys())\n",
    "    k = 0\n",
    "    n = len(wives)\n",
    "    for key in wives: # n\n",
    "        matching[key] = \"omega\"\n",
    "    while k < n: # n\n",
    "        X = husbands[k] # (k+1)-st man # time complexity of finding an index in a list \n",
    "        while X != \"omega\": # n\n",
    "            x = preference1[X][0] # best choice remaining on X's list \n",
    "            prefer_x = preference2[x]\n",
    "            fiance_x = matching[x]\n",
    "            if prefer_x.index(X) < prefer_x.index(fiance_x):\n",
    "                matching[x] = X\n",
    "                X = fiance_x\n",
    "            if X != \"omega\":\n",
    "                preference1[X] = [element for element in preference1[X] if element != x]\n",
    "        k = k + 1\n",
    "    return matching\n"
   ]
  },
  {
   "cell_type": "code",
   "execution_count": 83,
   "id": "03db4988",
   "metadata": {},
   "outputs": [
    {
     "data": {
      "text/plain": [
       "{'a': 'A', 'b': 'B', 'c': 'C', 'd': 'D', 'e': 'E'}"
      ]
     },
     "execution_count": 83,
     "metadata": {},
     "output_type": "execute_result"
    }
   ],
   "source": [
    "# test \n",
    "algorithm(prefer2_1, prefer2_2)"
   ]
  },
  {
   "cell_type": "markdown",
   "id": "28f21926",
   "metadata": {},
   "source": [
    "## 16.8.3 part c)"
   ]
  },
  {
   "cell_type": "markdown",
   "id": "e739d62e",
   "metadata": {},
   "source": [
    "The time complexity of the steps $\\texttt{preference1 = \\{key: value + ['omega'] for key, value in preference1.items()\\}}$ and $\\texttt{preference2 = \\{key: value + ['omega'] for key, value in preference2.items()\\}}$ is both $\\mathcal{O}(n)$. However, the overall time complexity of the algorithm is dominated by the nested loops. The outer loop, iterating at most $n$ times, and the inner loop, which depends on the length of the preference lists ($m$), result in a total time complexity of $\\mathcal{O}(n^2)$. Therefore, the time complexity of the entire function is $\\mathcal{O}(n^2)$."
   ]
  },
  {
   "cell_type": "markdown",
   "id": "90adee98",
   "metadata": {},
   "source": [
    "# 16.9 Task 8"
   ]
  },
  {
   "cell_type": "code",
   "execution_count": 71,
   "id": "9021eb7e",
   "metadata": {},
   "outputs": [],
   "source": [
    "import pandas as pd"
   ]
  },
  {
   "cell_type": "code",
   "execution_count": 132,
   "id": "7c5b12bc",
   "metadata": {},
   "outputs": [],
   "source": [
    "def algorithm_table(table1, table2):\n",
    "    preference1 = table1.to_dict(orient='list')\n",
    "    preference2 = table2.to_dict(orient='list')\n",
    "    preference1 = {key: value + [\"omega\"] for key, value in preference1.items()}\n",
    "    preference2 = {key: value + [\"omega\"] for key, value in preference2.items()}\n",
    "    matching = {}\n",
    "    husbands = list(preference1.keys())\n",
    "    wives = list(preference2.keys())\n",
    "    k = 0\n",
    "    n = len(wives)\n",
    "    for key in wives:\n",
    "        matching[key] = \"omega\"\n",
    "    while k < n:\n",
    "        X = husbands[k] # (k+1)-st man\n",
    "        while X != \"omega\":\n",
    "            x = preference1[X][0]\n",
    "            prefer_x = preference2[x]\n",
    "            fiance_x = matching[x]\n",
    "            if prefer_x.index(X) < prefer_x.index(fiance_x):\n",
    "                matching[x] = X\n",
    "                X = fiance_x\n",
    "            if X != \"omega\":\n",
    "                preference1[X] = [element for element in preference1[X] if element != x]\n",
    "        k = k + 1\n",
    "    matching = pd.DataFrame({\"Men\": list(matching.values()),\n",
    "                            \"Women\": list(matching.keys())})\n",
    "    return matching"
   ]
  },
  {
   "cell_type": "code",
   "execution_count": 133,
   "id": "32159961",
   "metadata": {},
   "outputs": [],
   "source": [
    "table1 = pd.DataFrame({\"A\" : [\"c\",\"b\",\"d\",\"a\"],\n",
    "                       \"B\" : [\"b\",\"a\",\"c\",\"d\"],\n",
    "                       \"C\" : [\"b\",\"d\",\"a\",\"c\"],\n",
    "                       \"D\" : [\"c\",\"a\",\"d\",\"b\"]\n",
    "                      })\n",
    "\n",
    "table2 = pd.DataFrame({\"a\" : [\"A\",\"B\",\"D\",\"C\"],\n",
    "                       \"b\" : [\"C\",\"A\",\"D\",\"B\"],\n",
    "                       \"c\" : [\"C\",\"B\",\"D\",\"A\"],\n",
    "                       \"d\" : [\"B\",\"A\",\"C\",\"D\"]\n",
    "                      })"
   ]
  },
  {
   "cell_type": "code",
   "execution_count": 134,
   "id": "108343a1",
   "metadata": {},
   "outputs": [
    {
     "data": {
      "text/html": [
       "<div>\n",
       "<style scoped>\n",
       "    .dataframe tbody tr th:only-of-type {\n",
       "        vertical-align: middle;\n",
       "    }\n",
       "\n",
       "    .dataframe tbody tr th {\n",
       "        vertical-align: top;\n",
       "    }\n",
       "\n",
       "    .dataframe thead th {\n",
       "        text-align: right;\n",
       "    }\n",
       "</style>\n",
       "<table border=\"1\" class=\"dataframe\">\n",
       "  <thead>\n",
       "    <tr style=\"text-align: right;\">\n",
       "      <th></th>\n",
       "      <th>Men</th>\n",
       "      <th>Women</th>\n",
       "    </tr>\n",
       "  </thead>\n",
       "  <tbody>\n",
       "    <tr>\n",
       "      <th>0</th>\n",
       "      <td>B</td>\n",
       "      <td>a</td>\n",
       "    </tr>\n",
       "    <tr>\n",
       "      <th>1</th>\n",
       "      <td>C</td>\n",
       "      <td>b</td>\n",
       "    </tr>\n",
       "    <tr>\n",
       "      <th>2</th>\n",
       "      <td>D</td>\n",
       "      <td>c</td>\n",
       "    </tr>\n",
       "    <tr>\n",
       "      <th>3</th>\n",
       "      <td>A</td>\n",
       "      <td>d</td>\n",
       "    </tr>\n",
       "  </tbody>\n",
       "</table>\n",
       "</div>"
      ],
      "text/plain": [
       "  Men Women\n",
       "0   B     a\n",
       "1   C     b\n",
       "2   D     c\n",
       "3   A     d"
      ]
     },
     "execution_count": 134,
     "metadata": {},
     "output_type": "execute_result"
    }
   ],
   "source": [
    "# test function algorithm_table\n",
    "stable_table = algorithm_table(table1, table2) # stable\n",
    "stable_table"
   ]
  },
  {
   "cell_type": "code",
   "execution_count": 102,
   "id": "7f4d13b3",
   "metadata": {},
   "outputs": [
    {
     "data": {
      "text/plain": [
       "{'a': 'B', 'b': 'C', 'c': 'D', 'd': 'A'}"
      ]
     },
     "execution_count": 102,
     "metadata": {},
     "output_type": "execute_result"
    }
   ],
   "source": [
    "df_dict = {}\n",
    "\n",
    "for i in range(4):\n",
    "    key = stable_table[\"Men\"][i]\n",
    "    value = stable_table[\"Women\"][i]\n",
    "    df_dict[key] = value\n",
    "\n",
    "df_dict"
   ]
  },
  {
   "cell_type": "markdown",
   "id": "b94451c0",
   "metadata": {},
   "source": [
    "# 16.10 Task 9"
   ]
  },
  {
   "cell_type": "code",
   "execution_count": null,
   "id": "7bf8e8cd",
   "metadata": {},
   "outputs": [],
   "source": [
    "def gnt_preferences(list1, list2):\n",
    "    dic1 = {}\n",
    "    dic2 = {}\n",
    "    k = len(list1)\n",
    "    for item in list1:\n",
    "        dic1[item] = random.sample(list2, k)\n",
    "    for key in list2:\n",
    "        dic2[key] = random.sample(list1, k)\n",
    "    return dic1, dic2"
   ]
  },
  {
   "cell_type": "markdown",
   "id": "21967247",
   "metadata": {},
   "source": [
    "## Test for function IS_STABLE"
   ]
  },
  {
   "cell_type": "markdown",
   "id": "0f9e04ab",
   "metadata": {},
   "source": [
    "Let's use the example in the literature. Given preference list \"prefer1\" and \"prefer2\", we know that \"matching1\" is stable and \"matching2\" is unstable."
   ]
  },
  {
   "cell_type": "code",
   "execution_count": 78,
   "id": "d28b24a8",
   "metadata": {},
   "outputs": [
    {
     "name": "stdout",
     "output_type": "stream",
     "text": [
      "stable\n",
      "unstable\n"
     ]
    }
   ],
   "source": [
    "prefer1 = {\n",
    "    \"A\": [\"c\", \"b\", \"d\", \"a\"],\n",
    "    \"B\": [\"b\", \"a\", \"c\", \"d\"],\n",
    "    \"C\": [\"b\", \"d\", \"a\", \"c\"],\n",
    "    \"D\": [\"c\", \"a\", \"d\", \"b\"]\n",
    "}\n",
    "prefer2 = {\n",
    "    \"a\": [\"A\", \"B\", \"D\", \"C\"],\n",
    "    \"b\": [\"C\", \"A\", \"D\", \"B\"],\n",
    "    \"c\": [\"C\", \"B\", \"D\", \"A\"],\n",
    "    \"d\": [\"B\", \"A\", \"C\", \"D\"]\n",
    "}\n",
    "\n",
    "matching1 = {\n",
    "    \"A\": \"d\",\n",
    "    \"B\": \"a\",\n",
    "    \"C\": \"b\",\n",
    "    \"D\": \"c\"\n",
    "} # stable\n",
    "\n",
    "matching2 = {\n",
    "    \"A\": \"a\",\n",
    "    \"B\": \"b\",\n",
    "    \"C\": \"c\",\n",
    "    \"D\": \"d\"\n",
    "} # unstable\n",
    "\n",
    "# test 1\n",
    "flag1 = IS_STABLE(prefer1, prefer2, matching1)\n",
    "assert flag1 == 0\n",
    "\n",
    "# test 2\n",
    "flag2 = IS_STABLE(prefer1, prefer2, matching2)\n",
    "assert flag2 == 1"
   ]
  },
  {
   "cell_type": "markdown",
   "id": "1601d796",
   "metadata": {},
   "source": [
    "## Test for function STABLE__MATCHINGS"
   ]
  },
  {
   "cell_type": "code",
   "execution_count": 172,
   "id": "e2d121d8",
   "metadata": {},
   "outputs": [],
   "source": [
    "# Test function for STABLE__MATCHINGS\n",
    "def test_STABLE__MATCHINGS(list1_A, list1_a): \n",
    "    # repeat the test on 10 different pairs of preference tables\n",
    "    for i in range(10):  \n",
    "        prefer1_A, prefer1_a = gnt_preferences(list1_A, list1_a) # create two preference tables\n",
    "        stable_solutions = STABLE__MATCHINGS(prefer1_A, prefer1_a) # genertate all the stable solutions \n",
    "\n",
    "        # check if they are stable\n",
    "        for item in stable_solutions:\n",
    "            flag = IS_STABLE_new(prefer1_A, prefer1_a, item) \n",
    "            assert flag == 0"
   ]
  },
  {
   "cell_type": "markdown",
   "id": "a7315048",
   "metadata": {},
   "source": [
    "To use the test function, we just need to input any two lists of wifes and husbands. There is no error, which means the function STABLE__MATCHINGS passed the test."
   ]
  },
  {
   "cell_type": "code",
   "execution_count": 173,
   "id": "42791c9f",
   "metadata": {},
   "outputs": [],
   "source": [
    "list1_A = [\"A\", \"B\", \"C\", \"D\", \"E\", \"F\", \"G\"]\n",
    "list1_a = [\"a\", \"b\", \"c\", \"d\", \"e\", \"f\", \"g\"]\n",
    "test_STABLE__MATCHINGS(list1_A, list1_a)"
   ]
  },
  {
   "cell_type": "code",
   "execution_count": 174,
   "id": "268dd37b",
   "metadata": {},
   "outputs": [],
   "source": [
    "list1_A = [\"B\", \"C\", \"A\", \"D\", \"E\", \"F\"]\n",
    "list1_a = [\"a\", \"b\", \"c\", \"d\", \"e\", \"f\"]\n",
    "test_STABLE__MATCHINGS(list1_A, list1_a)"
   ]
  },
  {
   "cell_type": "markdown",
   "id": "b7245e8d",
   "metadata": {},
   "source": [
    "## Test for function algorithm "
   ]
  },
  {
   "cell_type": "code",
   "execution_count": 176,
   "id": "1d3d2100",
   "metadata": {},
   "outputs": [],
   "source": [
    "def test_algorithm(list1_A, list1_a):\n",
    "    # repeat the test on 10 different pairs of preference tables\n",
    "    for i in range(10):  \n",
    "        prefer1_A, prefer1_a = gnt_preferences(list1_A, list1_a) # create two preference tables\n",
    "        stable_solution = algorithm(prefer1_A, prefer1_a) # genertate all the stable solutions \n",
    "\n",
    "        # exchange the keys and the values of the stale solution\n",
    "        stable_solution = {value: key for key, value in stable_solution.items()}\n",
    "        flag = IS_STABLE_new(prefer1_A, prefer1_a, stable_solution) \n",
    "        assert flag == 0"
   ]
  },
  {
   "cell_type": "markdown",
   "id": "acc22361",
   "metadata": {},
   "source": [
    "To use the test function, we just need to input any two lists of wifes and husbands. There is no error, which means the function algorithm passed the test."
   ]
  },
  {
   "cell_type": "code",
   "execution_count": 177,
   "id": "a3adf957",
   "metadata": {},
   "outputs": [],
   "source": [
    "list1_A = [\"A\", \"B\", \"C\", \"D\", \"E\", \"F\", \"G\"]\n",
    "list1_a = [\"a\", \"b\", \"c\", \"d\", \"e\", \"f\", \"g\"]\n",
    "test_algorithm(list1_A, list1_a)"
   ]
  },
  {
   "cell_type": "code",
   "execution_count": 178,
   "id": "a68e057b",
   "metadata": {},
   "outputs": [],
   "source": [
    "list1_A = [\"C\", \"D\", \"E\", \"F\", \"G\"]\n",
    "list1_a = [\"c\", \"d\", \"e\", \"f\", \"g\"]\n",
    "test_algorithm(list1_A, list1_a)"
   ]
  },
  {
   "cell_type": "markdown",
   "id": "9e84380d",
   "metadata": {},
   "source": [
    "## Test for function algorithm_table"
   ]
  },
  {
   "cell_type": "code",
   "execution_count": 180,
   "id": "aeefe1bf",
   "metadata": {},
   "outputs": [],
   "source": [
    "def test_algorithm_table(list1_A, list1_a):\n",
    "    n = len(list1_A)\n",
    "    for i in range(10):  \n",
    "        prefer1_A, prefer1_a = gnt_preferences(list1_A, list1_a) # create two preference tables\n",
    "        prefer1_A_t = pd.DataFrame(prefer1_A)\n",
    "        prefer1_a_t = pd.DataFrame(prefer1_a)\n",
    "        matching = algorithm_table(prefer1_A_t, prefer1_a_t)\n",
    "        df_dict = {}\n",
    "\n",
    "        for i in range(n):\n",
    "            key = matching[\"Men\"][i]\n",
    "            value = matching[\"Women\"][i]\n",
    "            df_dict[key] = value\n",
    "        flag = IS_STABLE_new(prefer1_A, prefer1_a, df_dict) \n",
    "        assert flag == 0"
   ]
  },
  {
   "cell_type": "code",
   "execution_count": 181,
   "id": "52580091",
   "metadata": {},
   "outputs": [],
   "source": [
    "list1_A = [\"A\", \"B\", \"C\", \"D\", \"E\", \"F\", \"G\"]\n",
    "list1_a = [\"a\", \"b\", \"c\", \"d\", \"e\", \"f\", \"g\"]\n",
    "test_algorithm_table(list1_A, list1_a)"
   ]
  },
  {
   "cell_type": "code",
   "execution_count": 182,
   "id": "a249ce63",
   "metadata": {},
   "outputs": [],
   "source": [
    "list1_A = [\"C\", \"D\", \"E\", \"F\", \"G\"]\n",
    "list1_a = [\"c\", \"d\", \"e\", \"f\", \"g\"]\n",
    "test_algorithm(list1_A, list1_a)"
   ]
  },
  {
   "cell_type": "markdown",
   "id": "1a7e1b5f",
   "metadata": {},
   "source": [
    "## Which of the 5Rs are improved by adding these tests ?"
   ]
  },
  {
   "cell_type": "markdown",
   "id": "4ca50d9f",
   "metadata": {},
   "source": [
    "Rerunnability, Reproducibility and Repeatability is improved by addinf these tests."
   ]
  }
 ],
 "metadata": {
  "kernelspec": {
   "display_name": "Python 3 (ipykernel)",
   "language": "python",
   "name": "python3"
  },
  "language_info": {
   "codemirror_mode": {
    "name": "ipython",
    "version": 3
   },
   "file_extension": ".py",
   "mimetype": "text/x-python",
   "name": "python",
   "nbconvert_exporter": "python",
   "pygments_lexer": "ipython3",
   "version": "3.9.7"
  }
 },
 "nbformat": 4,
 "nbformat_minor": 5
}
